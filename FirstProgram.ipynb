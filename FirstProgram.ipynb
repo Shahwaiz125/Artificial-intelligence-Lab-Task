{
  "nbformat": 4,
  "nbformat_minor": 0,
  "metadata": {
    "colab": {
      "provenance": [],
      "toc_visible": true
    },
    "kernelspec": {
      "name": "python3",
      "display_name": "Python 3"
    },
    "language_info": {
      "name": "python"
    }
  },
  "cells": [
    {
      "cell_type": "markdown",
      "source": [
        "# ***if else statement in python program***"
      ],
      "metadata": {
        "id": "RMHF1COjDicP"
      }
    },
    {
      "cell_type": "code",
      "source": [
        "print (\"i am shahwaiz iqbal\")\n",
        "if 5>=6:\n",
        "  print(\"shah waiz iqbal\")\n",
        "else:\n",
        "  print(\"umair\")"
      ],
      "metadata": {
        "colab": {
          "base_uri": "https://localhost:8080/"
        },
        "id": "XdRQqwh3B8ef",
        "outputId": "e3b535f0-f47a-4ea7-9638-fb3dd1fbb6fa"
      },
      "execution_count": null,
      "outputs": [
        {
          "output_type": "stream",
          "name": "stdout",
          "text": [
            "i am shahwaiz iqbal\n",
            "umair\n"
          ]
        }
      ]
    },
    {
      "cell_type": "markdown",
      "source": [],
      "metadata": {
        "id": "UCnAbJb0FQtF"
      }
    },
    {
      "cell_type": "code",
      "source": [
        "x = 5\n",
        "y = 10\n",
        "print (x + y )\n",
        "print( x - y)\n",
        "print( x * y)\n",
        "print (x / y)"
      ],
      "metadata": {
        "id": "de3IQVncD6XW",
        "colab": {
          "base_uri": "https://localhost:8080/"
        },
        "outputId": "72606280-0350-4916-a118-b2ba0869aea9"
      },
      "execution_count": null,
      "outputs": [
        {
          "output_type": "stream",
          "name": "stdout",
          "text": [
            "15\n",
            "-5\n",
            "50\n",
            "0.5\n"
          ]
        }
      ]
    },
    {
      "cell_type": "code",
      "source": [
        "x = \"shah waiz iqbal\"\n",
        "X = 5\n",
        "z = 4.5\n",
        "\n",
        "print(x)"
      ],
      "metadata": {
        "colab": {
          "base_uri": "https://localhost:8080/"
        },
        "id": "pZ0buWafM6qp",
        "outputId": "2e7141b2-5300-41fe-a919-9e64c9c07b1a"
      },
      "execution_count": null,
      "outputs": [
        {
          "output_type": "stream",
          "name": "stdout",
          "text": [
            "shah waiz iqbal\n"
          ]
        }
      ]
    },
    {
      "cell_type": "markdown",
      "source": [
        "**For Loop**"
      ],
      "metadata": {
        "id": "HQ_onCsZOR6F"
      }
    },
    {
      "cell_type": "code",
      "source": [
        "fruits = [\"apple\", \"banana\", \"cherry\"]\n",
        "for x in fruits:\n",
        "  print(x)"
      ],
      "metadata": {
        "id": "nR_eDpNWOa-c"
      },
      "execution_count": null,
      "outputs": []
    },
    {
      "cell_type": "markdown",
      "source": [
        "**Global Variable**"
      ],
      "metadata": {
        "id": "-u3Sb08_Oxvs"
      }
    },
    {
      "cell_type": "code",
      "source": [
        "x = 5\n",
        "y = 4\n",
        "\n",
        "def calculation():\n",
        "  print(\"sum of x and y is \",x+y)\n",
        "  print(\"subtraction of x and y is \",x-y)\n",
        "  print(\"Multiplication of x and y is \",x*y)\n",
        "  print(\"Division of x and y is \",x/y)\n"
      ],
      "metadata": {
        "id": "1zhDVYi7O2F0"
      },
      "execution_count": null,
      "outputs": []
    }
  ]
}