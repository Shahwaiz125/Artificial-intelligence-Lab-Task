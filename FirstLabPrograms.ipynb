{
  "nbformat": 4,
  "nbformat_minor": 0,
  "metadata": {
    "colab": {
      "provenance": [],
      "toc_visible": true
    },
    "kernelspec": {
      "name": "python3",
      "display_name": "Python 3"
    },
    "language_info": {
      "name": "python"
    }
  },
  "cells": [
    {
      "cell_type": "markdown",
      "source": [
        "**if else condition**"
      ],
      "metadata": {
        "id": "RMHF1COjDicP"
      }
    },
    {
      "cell_type": "code",
      "source": [
        "print (\"i am shahwaiz iqbal\")\n",
        "if 5>=6:\n",
        "  print(\"shah waiz iqbal\")\n",
        "else:\n",
        "  print(\"umair\")"
      ],
      "metadata": {
        "colab": {
          "base_uri": "https://localhost:8080/"
        },
        "id": "XdRQqwh3B8ef",
        "outputId": "e3b535f0-f47a-4ea7-9638-fb3dd1fbb6fa"
      },
      "execution_count": null,
      "outputs": [
        {
          "output_type": "stream",
          "name": "stdout",
          "text": [
            "i am shahwaiz iqbal\n",
            "umair\n"
          ]
        }
      ]
    },
    {
      "cell_type": "markdown",
      "source": [
        "**Arthematic operators**"
      ],
      "metadata": {
        "id": "UCnAbJb0FQtF"
      }
    },
    {
      "cell_type": "code",
      "source": [
        "x = 5\n",
        "y = 10\n",
        "print (x + y )\n",
        "print( x - y)\n",
        "print( x * y)\n",
        "print (x / y)"
      ],
      "metadata": {
        "id": "de3IQVncD6XW",
        "colab": {
          "base_uri": "https://localhost:8080/"
        },
        "outputId": "72606280-0350-4916-a118-b2ba0869aea9"
      },
      "execution_count": null,
      "outputs": [
        {
          "output_type": "stream",
          "name": "stdout",
          "text": [
            "15\n",
            "-5\n",
            "50\n",
            "0.5\n"
          ]
        }
      ]
    },
    {
      "cell_type": "code",
      "source": [
        "x = \"shah waiz iqbal\"\n",
        "X = 5\n",
        "z = 4.5\n",
        "\n",
        "print(x)"
      ],
      "metadata": {
        "colab": {
          "base_uri": "https://localhost:8080/"
        },
        "id": "pZ0buWafM6qp",
        "outputId": "2e7141b2-5300-41fe-a919-9e64c9c07b1a"
      },
      "execution_count": null,
      "outputs": [
        {
          "output_type": "stream",
          "name": "stdout",
          "text": [
            "shah waiz iqbal\n"
          ]
        }
      ]
    },
    {
      "cell_type": "markdown",
      "source": [
        "**For Loop**"
      ],
      "metadata": {
        "id": "HQ_onCsZOR6F"
      }
    },
    {
      "cell_type": "code",
      "source": [
        "fruits = [\"apple\", \"banana\", \"cherry\"]\n",
        "for x in fruits:\n",
        "  print(x)"
      ],
      "metadata": {
        "id": "nR_eDpNWOa-c"
      },
      "execution_count": null,
      "outputs": []
    },
    {
      "cell_type": "markdown",
      "source": [
        "**Global Variable**"
      ],
      "metadata": {
        "id": "-u3Sb08_Oxvs"
      }
    },
    {
      "cell_type": "code",
      "source": [
        "x = 5\n",
        "y = 4\n",
        "\n",
        "def calculation():\n",
        "  print(\"sum of x and y is \",x+y)\n",
        "  print(\"subtraction of x and y is \",x-y)\n",
        "  print(\"Multiplication of x and y is \",x*y)\n",
        "  print(\"Division of x and y is \",x/y)\n"
      ],
      "metadata": {
        "id": "1zhDVYi7O2F0"
      },
      "execution_count": null,
      "outputs": []
    },
    {
      "cell_type": "markdown",
      "source": [
        "**Casting**"
      ],
      "metadata": {
        "id": "FCooChnCR5KU"
      }
    },
    {
      "cell_type": "code",
      "source": [
        "x = str(\"shahwaiz iqbal\")\n",
        "y = int(5)\n",
        "z = float(6)\n",
        "print(x)\n",
        "print(y)\n",
        "print(z)"
      ],
      "metadata": {
        "colab": {
          "base_uri": "https://localhost:8080/"
        },
        "id": "ko_ebBQBRoER",
        "outputId": "7c6d7be6-ce5a-4f2d-b20c-b9036cb3b46b"
      },
      "execution_count": 1,
      "outputs": [
        {
          "output_type": "stream",
          "name": "stdout",
          "text": [
            "shahwaiz iqbal\n",
            "3\n",
            "3.0\n"
          ]
        }
      ]
    },
    {
      "cell_type": "markdown",
      "source": [
        "**check Type**"
      ],
      "metadata": {
        "id": "XkaGAjmWR9ZU"
      }
    },
    {
      "cell_type": "code",
      "source": [
        "x = 6\n",
        "y = \"hello\"\n",
        "print(type(x))\n",
        "print(type(y))"
      ],
      "metadata": {
        "id": "StT6UQNoSF1x"
      },
      "execution_count": null,
      "outputs": []
    },
    {
      "cell_type": "markdown",
      "source": [
        "**One Value to Multiple Variables**"
      ],
      "metadata": {
        "id": "6mtag_r1SJ8A"
      }
    },
    {
      "cell_type": "code",
      "source": [
        "x = y = z = \"Pakistan\"\n",
        "print(x)\n",
        "print(y)\n",
        "print(z)"
      ],
      "metadata": {
        "id": "kmVQ3R0XSQow"
      },
      "execution_count": null,
      "outputs": []
    },
    {
      "cell_type": "markdown",
      "source": [
        "**Dictionary**"
      ],
      "metadata": {
        "id": "0bEaVS_WSfYa"
      }
    },
    {
      "cell_type": "code",
      "source": [
        "dict = {\n",
        "  \"brand\": \"toyota\",\n",
        "  \"model\": \"corrola\",\n",
        "  \"year\": 1964,\n",
        "\n",
        "}\n",
        "print(dict)"
      ],
      "metadata": {
        "colab": {
          "base_uri": "https://localhost:8080/"
        },
        "id": "IKqxoMYjSj4D",
        "outputId": "fbc4edfd-0f10-4886-86fb-369a445dc38b"
      },
      "execution_count": 2,
      "outputs": [
        {
          "output_type": "stream",
          "name": "stdout",
          "text": [
            "{'brand': 'toyota', 'model': 'corrola', 'year': 2020}\n"
          ]
        }
      ]
    },
    {
      "cell_type": "markdown",
      "source": [
        "**Duplicates Not Allowed**"
      ],
      "metadata": {
        "id": "DrjwXW-XSxQ_"
      }
    },
    {
      "cell_type": "code",
      "source": [
        "dict = {\n",
        "  \"brand\": \"toyota\",\n",
        "  \"model\": \"corrola\",\n",
        "  \"year\": 1964,  #Duplicate values will overwrite present value:\n",
        "  \"year\": 2020\n",
        "}\n",
        "print(dict)"
      ],
      "metadata": {
        "id": "04gfIv7sS2M_"
      },
      "execution_count": null,
      "outputs": []
    },
    {
      "cell_type": "markdown",
      "source": [
        "**Arguments**"
      ],
      "metadata": {
        "id": "bGLLxvqvTJ9G"
      }
    },
    {
      "cell_type": "code",
      "source": [
        "def my_function(fname):\n",
        "  print(fname + \" comsian\")\n",
        "\n",
        "my_function(\"shahwaiz\")\n",
        "my_function(\"umair\")\n",
        "my_function(\"saeed\")"
      ],
      "metadata": {
        "colab": {
          "base_uri": "https://localhost:8080/"
        },
        "id": "y-KaVFT0TLeu",
        "outputId": "07987f83-4072-4a88-9c89-f9f93659710a"
      },
      "execution_count": 3,
      "outputs": [
        {
          "output_type": "stream",
          "name": "stdout",
          "text": [
            "shahwaiz comsian\n",
            "umair comsian\n",
            "saeed comsian\n"
          ]
        }
      ]
    }
  ]
}